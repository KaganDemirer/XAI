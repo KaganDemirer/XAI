{
 "cells": [
  {
   "cell_type": "code",
   "execution_count": 4,
   "metadata": {},
   "outputs": [
    {
     "name": "stdout",
     "output_type": "stream",
     "text": [
      "PhiModel(\n",
      "  (embed_tokens): Embedding(51200, 2048)\n",
      "  (embed_dropout): Dropout(p=0.0, inplace=False)\n",
      "  (layers): ModuleList(\n",
      "    (0-23): 24 x PhiDecoderLayer(\n",
      "      (self_attn): PhiSdpaAttention(\n",
      "        (q_proj): Linear(in_features=2048, out_features=2048, bias=True)\n",
      "        (k_proj): Linear(in_features=2048, out_features=2048, bias=True)\n",
      "        (v_proj): Linear(in_features=2048, out_features=2048, bias=True)\n",
      "        (dense): Linear(in_features=2048, out_features=2048, bias=True)\n",
      "        (rotary_emb): PhiRotaryEmbedding()\n",
      "      )\n",
      "      (mlp): PhiMLP(\n",
      "        (activation_fn): NewGELUActivation()\n",
      "        (fc1): Linear(in_features=2048, out_features=8192, bias=True)\n",
      "        (fc2): Linear(in_features=8192, out_features=2048, bias=True)\n",
      "      )\n",
      "      (input_layernorm): LayerNorm((2048,), eps=1e-05, elementwise_affine=True)\n",
      "      (resid_dropout): Dropout(p=0.0, inplace=False)\n",
      "    )\n",
      "  )\n",
      "  (final_layernorm): LayerNorm((2048,), eps=1e-05, elementwise_affine=True)\n",
      "  (rotary_emb): PhiRotaryEmbedding()\n",
      ")\n"
     ]
    }
   ],
   "source": [
    "from transformers import AutoTokenizer, AutoModel\n",
    "import tensorflow as tf\n",
    "from tensorboard.plugins import projector\n",
    "import os\n",
    "from tqdm import tqdm\n",
    "\n",
    "log_dir = './logs/phi1_5/vocab/'\n",
    "\n",
    "tokenizer = AutoTokenizer.from_pretrained(\"microsoft/phi-1_5\")\n",
    "model = AutoModel.from_pretrained(\"microsoft/phi-1_5\")\n",
    "print(model)"
   ]
  },
  {
   "cell_type": "code",
   "execution_count": 6,
   "metadata": {},
   "outputs": [
    {
     "name": "stdout",
     "output_type": "stream",
     "text": [
      "torch.Size([51200, 2048])\n"
     ]
    }
   ],
   "source": [
    "word_embeddings = model.embed_tokens.weight\n",
    "\n",
    "print(word_embeddings.shape)"
   ]
  },
  {
   "cell_type": "code",
   "execution_count": 7,
   "metadata": {},
   "outputs": [
    {
     "name": "stderr",
     "output_type": "stream",
     "text": [
      "100%|██████████| 50295/50295 [00:00<00:00, 1007404.51it/s]\n"
     ]
    }
   ],
   "source": [
    "# Create list of tokens in vocab sorted by their index in vocab\n",
    "\n",
    "vocab_list = sorted(tokenizer.vocab.items(), key=lambda x:x[1])\n",
    "\n",
    "if not os.path.exists(log_dir):\n",
    "    os.makedirs(log_dir)\n",
    "\n",
    "# save them as csv\n",
    "with open(os.path.join(log_dir, 'metadata.tsv'), \"w\") as f:\n",
    "    for word, idx in tqdm(vocab_list):\n",
    "        f.write(\"{}\\n\".format(str(word.encode(encoding='iso-8859-1', errors='replace'))))"
   ]
  },
  {
   "cell_type": "code",
   "execution_count": 10,
   "metadata": {},
   "outputs": [
    {
     "name": "stdout",
     "output_type": "stream",
     "text": [
      "Parameter containing:\n",
      "tensor([[ 9.7046e-03, -1.5488e-02,  6.0272e-02,  ...,  9.5520e-03,\n",
      "         -5.4169e-02, -5.8174e-03],\n",
      "        [ 2.4323e-02,  5.4321e-02,  1.7776e-02,  ...,  2.5421e-02,\n",
      "         -4.3854e-02,  3.9612e-02],\n",
      "        [-4.1565e-02,  3.6987e-02, -1.5976e-02,  ...,  4.7394e-02,\n",
      "         -1.6113e-02,  4.3716e-03],\n",
      "        ...,\n",
      "        [-1.5259e-05,  3.0160e-05, -1.6034e-05,  ..., -1.9729e-05,\n",
      "         -1.3590e-05,  9.2745e-05],\n",
      "        [-8.0466e-06, -2.6107e-05, -5.1260e-05,  ...,  4.0054e-05,\n",
      "          4.9233e-05, -1.6689e-05],\n",
      "        [ 3.2783e-06, -1.7822e-05,  2.4676e-05,  ..., -3.4511e-05,\n",
      "         -2.0921e-05,  1.6928e-05]], requires_grad=True)\n"
     ]
    },
    {
     "data": {
      "text/plain": [
       "'./logs/phi1_5/vocab/embedding.ckpt-1'"
      ]
     },
     "execution_count": 10,
     "metadata": {},
     "output_type": "execute_result"
    }
   ],
   "source": [
    "print(model.embed_tokens.weight)\n",
    "embeddings = tf.Variable(model.embed_tokens.weight.detach().numpy())\n",
    "checkpoint = tf.train.Checkpoint(embedding=embeddings)\n",
    "checkpoint.save(os.path.join(log_dir, \"embedding.ckpt\"))"
   ]
  },
  {
   "cell_type": "code",
   "execution_count": 11,
   "metadata": {},
   "outputs": [],
   "source": [
    "# Set up config\n",
    "config = projector.ProjectorConfig()\n",
    "embedding = config.embeddings.add()\n",
    "\n",
    "# The name of the tensor will be suffixed by `/.ATTRIBUTES/VARIABLE_VALUE`.\n",
    "embedding.tensor_name = \"embedding/.ATTRIBUTES/VARIABLE_VALUE\"\n",
    "embedding.metadata_path = 'metadata.tsv'\n",
    "projector.visualize_embeddings(log_dir, config)"
   ]
  }
 ],
 "metadata": {
  "kernelspec": {
   "display_name": ".venv",
   "language": "python",
   "name": "python3"
  },
  "language_info": {
   "codemirror_mode": {
    "name": "ipython",
    "version": 3
   },
   "file_extension": ".py",
   "mimetype": "text/x-python",
   "name": "python",
   "nbconvert_exporter": "python",
   "pygments_lexer": "ipython3",
   "version": "3.9.6"
  }
 },
 "nbformat": 4,
 "nbformat_minor": 2
}
